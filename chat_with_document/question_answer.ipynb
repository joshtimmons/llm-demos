{
  "cells": [
    {
      "cell_type": "markdown",
      "metadata": {
        "id": "view-in-github",
        "colab_type": "text"
      },
      "source": [
        "<a href=\"https://colab.research.google.com/github/joshtimmons/llm-demos/blob/main/chat_with_document/question_answer.ipynb\" target=\"_parent\"><img src=\"https://colab.research.google.com/assets/colab-badge.svg\" alt=\"Open In Colab\"/></a>"
      ]
    },
    {
      "cell_type": "code",
      "source": [
        "!pip install langchain transformers sentence_transformers chromadb"
      ],
      "metadata": {
        "colab": {
          "base_uri": "https://localhost:8080/"
        },
        "id": "ji2q5P50hyC6",
        "outputId": "5d2bcce4-0150-4db4-c557-e8761b1cd974"
      },
      "id": "ji2q5P50hyC6",
      "execution_count": null,
      "outputs": [
        {
          "output_type": "stream",
          "name": "stdout",
          "text": [
            "Requirement already satisfied: langchain in /usr/local/lib/python3.10/dist-packages (0.0.331)\n",
            "Requirement already satisfied: transformers in /usr/local/lib/python3.10/dist-packages (4.35.0)\n",
            "Requirement already satisfied: sentence_transformers in /usr/local/lib/python3.10/dist-packages (2.2.2)\n",
            "Requirement already satisfied: chromadb in /usr/local/lib/python3.10/dist-packages (0.4.15)\n",
            "Requirement already satisfied: PyYAML>=5.3 in /usr/local/lib/python3.10/dist-packages (from langchain) (6.0.1)\n",
            "Requirement already satisfied: SQLAlchemy<3,>=1.4 in /usr/local/lib/python3.10/dist-packages (from langchain) (2.0.23)\n",
            "Requirement already satisfied: aiohttp<4.0.0,>=3.8.3 in /usr/local/lib/python3.10/dist-packages (from langchain) (3.8.6)\n",
            "Requirement already satisfied: anyio<4.0 in /usr/local/lib/python3.10/dist-packages (from langchain) (3.7.1)\n",
            "Requirement already satisfied: async-timeout<5.0.0,>=4.0.0 in /usr/local/lib/python3.10/dist-packages (from langchain) (4.0.3)\n",
            "Requirement already satisfied: dataclasses-json<0.7,>=0.5.7 in /usr/local/lib/python3.10/dist-packages (from langchain) (0.6.1)\n",
            "Requirement already satisfied: jsonpatch<2.0,>=1.33 in /usr/local/lib/python3.10/dist-packages (from langchain) (1.33)\n",
            "Requirement already satisfied: langsmith<0.1.0,>=0.0.52 in /usr/local/lib/python3.10/dist-packages (from langchain) (0.0.60)\n",
            "Requirement already satisfied: numpy<2,>=1 in /usr/local/lib/python3.10/dist-packages (from langchain) (1.23.5)\n",
            "Requirement already satisfied: pydantic<3,>=1 in /usr/local/lib/python3.10/dist-packages (from langchain) (1.10.13)\n",
            "Requirement already satisfied: requests<3,>=2 in /usr/local/lib/python3.10/dist-packages (from langchain) (2.31.0)\n",
            "Requirement already satisfied: tenacity<9.0.0,>=8.1.0 in /usr/local/lib/python3.10/dist-packages (from langchain) (8.2.3)\n",
            "Requirement already satisfied: filelock in /usr/local/lib/python3.10/dist-packages (from transformers) (3.13.1)\n",
            "Requirement already satisfied: huggingface-hub<1.0,>=0.16.4 in /usr/local/lib/python3.10/dist-packages (from transformers) (0.17.3)\n",
            "Requirement already satisfied: packaging>=20.0 in /usr/local/lib/python3.10/dist-packages (from transformers) (23.2)\n",
            "Requirement already satisfied: regex!=2019.12.17 in /usr/local/lib/python3.10/dist-packages (from transformers) (2023.6.3)\n",
            "Requirement already satisfied: tokenizers<0.15,>=0.14 in /usr/local/lib/python3.10/dist-packages (from transformers) (0.14.1)\n",
            "Requirement already satisfied: safetensors>=0.3.1 in /usr/local/lib/python3.10/dist-packages (from transformers) (0.4.0)\n",
            "Requirement already satisfied: tqdm>=4.27 in /usr/local/lib/python3.10/dist-packages (from transformers) (4.66.1)\n",
            "Requirement already satisfied: torch>=1.6.0 in /usr/local/lib/python3.10/dist-packages (from sentence_transformers) (2.1.0+cu118)\n",
            "Requirement already satisfied: torchvision in /usr/local/lib/python3.10/dist-packages (from sentence_transformers) (0.16.0+cu118)\n",
            "Requirement already satisfied: scikit-learn in /usr/local/lib/python3.10/dist-packages (from sentence_transformers) (1.2.2)\n",
            "Requirement already satisfied: scipy in /usr/local/lib/python3.10/dist-packages (from sentence_transformers) (1.11.3)\n",
            "Requirement already satisfied: nltk in /usr/local/lib/python3.10/dist-packages (from sentence_transformers) (3.8.1)\n",
            "Requirement already satisfied: sentencepiece in /usr/local/lib/python3.10/dist-packages (from sentence_transformers) (0.1.99)\n",
            "Requirement already satisfied: chroma-hnswlib==0.7.3 in /usr/local/lib/python3.10/dist-packages (from chromadb) (0.7.3)\n",
            "Requirement already satisfied: fastapi>=0.95.2 in /usr/local/lib/python3.10/dist-packages (from chromadb) (0.104.1)\n",
            "Requirement already satisfied: uvicorn[standard]>=0.18.3 in /usr/local/lib/python3.10/dist-packages (from chromadb) (0.24.0.post1)\n",
            "Requirement already satisfied: posthog>=2.4.0 in /usr/local/lib/python3.10/dist-packages (from chromadb) (3.0.2)\n",
            "Requirement already satisfied: typing-extensions>=4.5.0 in /usr/local/lib/python3.10/dist-packages (from chromadb) (4.8.0)\n",
            "Requirement already satisfied: pulsar-client>=3.1.0 in /usr/local/lib/python3.10/dist-packages (from chromadb) (3.3.0)\n",
            "Requirement already satisfied: onnxruntime>=1.14.1 in /usr/local/lib/python3.10/dist-packages (from chromadb) (1.16.1)\n",
            "Requirement already satisfied: opentelemetry-api>=1.2.0 in /usr/local/lib/python3.10/dist-packages (from chromadb) (1.20.0)\n",
            "Requirement already satisfied: opentelemetry-exporter-otlp-proto-grpc>=1.2.0 in /usr/local/lib/python3.10/dist-packages (from chromadb) (1.20.0)\n",
            "Requirement already satisfied: opentelemetry-sdk>=1.2.0 in /usr/local/lib/python3.10/dist-packages (from chromadb) (1.20.0)\n",
            "Requirement already satisfied: pypika>=0.48.9 in /usr/local/lib/python3.10/dist-packages (from chromadb) (0.48.9)\n",
            "Requirement already satisfied: overrides>=7.3.1 in /usr/local/lib/python3.10/dist-packages (from chromadb) (7.4.0)\n",
            "Requirement already satisfied: importlib-resources in /usr/local/lib/python3.10/dist-packages (from chromadb) (6.1.0)\n",
            "Requirement already satisfied: grpcio>=1.58.0 in /usr/local/lib/python3.10/dist-packages (from chromadb) (1.59.2)\n",
            "Requirement already satisfied: bcrypt>=4.0.1 in /usr/local/lib/python3.10/dist-packages (from chromadb) (4.0.1)\n",
            "Requirement already satisfied: typer>=0.9.0 in /usr/local/lib/python3.10/dist-packages (from chromadb) (0.9.0)\n",
            "Requirement already satisfied: kubernetes>=28.1.0 in /usr/local/lib/python3.10/dist-packages (from chromadb) (28.1.0)\n",
            "Requirement already satisfied: attrs>=17.3.0 in /usr/local/lib/python3.10/dist-packages (from aiohttp<4.0.0,>=3.8.3->langchain) (23.1.0)\n",
            "Requirement already satisfied: charset-normalizer<4.0,>=2.0 in /usr/local/lib/python3.10/dist-packages (from aiohttp<4.0.0,>=3.8.3->langchain) (3.3.2)\n",
            "Requirement already satisfied: multidict<7.0,>=4.5 in /usr/local/lib/python3.10/dist-packages (from aiohttp<4.0.0,>=3.8.3->langchain) (6.0.4)\n",
            "Requirement already satisfied: yarl<2.0,>=1.0 in /usr/local/lib/python3.10/dist-packages (from aiohttp<4.0.0,>=3.8.3->langchain) (1.9.2)\n",
            "Requirement already satisfied: frozenlist>=1.1.1 in /usr/local/lib/python3.10/dist-packages (from aiohttp<4.0.0,>=3.8.3->langchain) (1.4.0)\n",
            "Requirement already satisfied: aiosignal>=1.1.2 in /usr/local/lib/python3.10/dist-packages (from aiohttp<4.0.0,>=3.8.3->langchain) (1.3.1)\n",
            "Requirement already satisfied: idna>=2.8 in /usr/local/lib/python3.10/dist-packages (from anyio<4.0->langchain) (3.4)\n",
            "Requirement already satisfied: sniffio>=1.1 in /usr/local/lib/python3.10/dist-packages (from anyio<4.0->langchain) (1.3.0)\n",
            "Requirement already satisfied: exceptiongroup in /usr/local/lib/python3.10/dist-packages (from anyio<4.0->langchain) (1.1.3)\n",
            "Requirement already satisfied: marshmallow<4.0.0,>=3.18.0 in /usr/local/lib/python3.10/dist-packages (from dataclasses-json<0.7,>=0.5.7->langchain) (3.20.1)\n",
            "Requirement already satisfied: typing-inspect<1,>=0.4.0 in /usr/local/lib/python3.10/dist-packages (from dataclasses-json<0.7,>=0.5.7->langchain) (0.9.0)\n",
            "Requirement already satisfied: starlette<0.28.0,>=0.27.0 in /usr/local/lib/python3.10/dist-packages (from fastapi>=0.95.2->chromadb) (0.27.0)\n",
            "Requirement already satisfied: fsspec in /usr/local/lib/python3.10/dist-packages (from huggingface-hub<1.0,>=0.16.4->transformers) (2023.6.0)\n",
            "Requirement already satisfied: jsonpointer>=1.9 in /usr/local/lib/python3.10/dist-packages (from jsonpatch<2.0,>=1.33->langchain) (2.4)\n",
            "Requirement already satisfied: certifi>=14.05.14 in /usr/local/lib/python3.10/dist-packages (from kubernetes>=28.1.0->chromadb) (2023.7.22)\n",
            "Requirement already satisfied: six>=1.9.0 in /usr/local/lib/python3.10/dist-packages (from kubernetes>=28.1.0->chromadb) (1.16.0)\n",
            "Requirement already satisfied: python-dateutil>=2.5.3 in /usr/local/lib/python3.10/dist-packages (from kubernetes>=28.1.0->chromadb) (2.8.2)\n",
            "Requirement already satisfied: google-auth>=1.0.1 in /usr/local/lib/python3.10/dist-packages (from kubernetes>=28.1.0->chromadb) (2.17.3)\n",
            "Requirement already satisfied: websocket-client!=0.40.0,!=0.41.*,!=0.42.*,>=0.32.0 in /usr/local/lib/python3.10/dist-packages (from kubernetes>=28.1.0->chromadb) (1.6.4)\n",
            "Requirement already satisfied: requests-oauthlib in /usr/local/lib/python3.10/dist-packages (from kubernetes>=28.1.0->chromadb) (1.3.1)\n",
            "Requirement already satisfied: oauthlib>=3.2.2 in /usr/local/lib/python3.10/dist-packages (from kubernetes>=28.1.0->chromadb) (3.2.2)\n",
            "Requirement already satisfied: urllib3<2.0,>=1.24.2 in /usr/local/lib/python3.10/dist-packages (from kubernetes>=28.1.0->chromadb) (1.26.18)\n",
            "Requirement already satisfied: coloredlogs in /usr/local/lib/python3.10/dist-packages (from onnxruntime>=1.14.1->chromadb) (15.0.1)\n",
            "Requirement already satisfied: flatbuffers in /usr/local/lib/python3.10/dist-packages (from onnxruntime>=1.14.1->chromadb) (23.5.26)\n",
            "Requirement already satisfied: protobuf in /usr/local/lib/python3.10/dist-packages (from onnxruntime>=1.14.1->chromadb) (3.20.3)\n",
            "Requirement already satisfied: sympy in /usr/local/lib/python3.10/dist-packages (from onnxruntime>=1.14.1->chromadb) (1.12)\n",
            "Requirement already satisfied: deprecated>=1.2.6 in /usr/local/lib/python3.10/dist-packages (from opentelemetry-api>=1.2.0->chromadb) (1.2.14)\n",
            "Requirement already satisfied: importlib-metadata<7.0,>=6.0 in /usr/local/lib/python3.10/dist-packages (from opentelemetry-api>=1.2.0->chromadb) (6.8.0)\n",
            "Requirement already satisfied: backoff<3.0.0,>=1.10.0 in /usr/local/lib/python3.10/dist-packages (from opentelemetry-exporter-otlp-proto-grpc>=1.2.0->chromadb) (2.2.1)\n",
            "Requirement already satisfied: googleapis-common-protos~=1.52 in /usr/local/lib/python3.10/dist-packages (from opentelemetry-exporter-otlp-proto-grpc>=1.2.0->chromadb) (1.61.0)\n",
            "Requirement already satisfied: opentelemetry-exporter-otlp-proto-common==1.20.0 in /usr/local/lib/python3.10/dist-packages (from opentelemetry-exporter-otlp-proto-grpc>=1.2.0->chromadb) (1.20.0)\n",
            "Requirement already satisfied: opentelemetry-proto==1.20.0 in /usr/local/lib/python3.10/dist-packages (from opentelemetry-exporter-otlp-proto-grpc>=1.2.0->chromadb) (1.20.0)\n",
            "Requirement already satisfied: opentelemetry-semantic-conventions==0.41b0 in /usr/local/lib/python3.10/dist-packages (from opentelemetry-sdk>=1.2.0->chromadb) (0.41b0)\n",
            "Requirement already satisfied: monotonic>=1.5 in /usr/local/lib/python3.10/dist-packages (from posthog>=2.4.0->chromadb) (1.6)\n",
            "Requirement already satisfied: greenlet!=0.4.17 in /usr/local/lib/python3.10/dist-packages (from SQLAlchemy<3,>=1.4->langchain) (3.0.1)\n",
            "Requirement already satisfied: networkx in /usr/local/lib/python3.10/dist-packages (from torch>=1.6.0->sentence_transformers) (3.2.1)\n",
            "Requirement already satisfied: jinja2 in /usr/local/lib/python3.10/dist-packages (from torch>=1.6.0->sentence_transformers) (3.1.2)\n",
            "Requirement already satisfied: triton==2.1.0 in /usr/local/lib/python3.10/dist-packages (from torch>=1.6.0->sentence_transformers) (2.1.0)\n",
            "Requirement already satisfied: click<9.0.0,>=7.1.1 in /usr/local/lib/python3.10/dist-packages (from typer>=0.9.0->chromadb) (8.1.7)\n",
            "Requirement already satisfied: h11>=0.8 in /usr/local/lib/python3.10/dist-packages (from uvicorn[standard]>=0.18.3->chromadb) (0.14.0)\n",
            "Requirement already satisfied: httptools>=0.5.0 in /usr/local/lib/python3.10/dist-packages (from uvicorn[standard]>=0.18.3->chromadb) (0.6.1)\n",
            "Requirement already satisfied: python-dotenv>=0.13 in /usr/local/lib/python3.10/dist-packages (from uvicorn[standard]>=0.18.3->chromadb) (1.0.0)\n",
            "Requirement already satisfied: uvloop!=0.15.0,!=0.15.1,>=0.14.0 in /usr/local/lib/python3.10/dist-packages (from uvicorn[standard]>=0.18.3->chromadb) (0.19.0)\n",
            "Requirement already satisfied: watchfiles>=0.13 in /usr/local/lib/python3.10/dist-packages (from uvicorn[standard]>=0.18.3->chromadb) (0.21.0)\n",
            "Requirement already satisfied: websockets>=10.4 in /usr/local/lib/python3.10/dist-packages (from uvicorn[standard]>=0.18.3->chromadb) (12.0)\n",
            "Requirement already satisfied: joblib in /usr/local/lib/python3.10/dist-packages (from nltk->sentence_transformers) (1.3.2)\n",
            "Requirement already satisfied: threadpoolctl>=2.0.0 in /usr/local/lib/python3.10/dist-packages (from scikit-learn->sentence_transformers) (3.2.0)\n",
            "Requirement already satisfied: pillow!=8.3.*,>=5.3.0 in /usr/local/lib/python3.10/dist-packages (from torchvision->sentence_transformers) (9.4.0)\n",
            "Requirement already satisfied: wrapt<2,>=1.10 in /usr/local/lib/python3.10/dist-packages (from deprecated>=1.2.6->opentelemetry-api>=1.2.0->chromadb) (1.14.1)\n",
            "Requirement already satisfied: cachetools<6.0,>=2.0.0 in /usr/local/lib/python3.10/dist-packages (from google-auth>=1.0.1->kubernetes>=28.1.0->chromadb) (5.3.2)\n",
            "Requirement already satisfied: pyasn1-modules>=0.2.1 in /usr/local/lib/python3.10/dist-packages (from google-auth>=1.0.1->kubernetes>=28.1.0->chromadb) (0.3.0)\n",
            "Requirement already satisfied: rsa<5,>=3.1.4 in /usr/local/lib/python3.10/dist-packages (from google-auth>=1.0.1->kubernetes>=28.1.0->chromadb) (4.9)\n",
            "Requirement already satisfied: zipp>=0.5 in /usr/local/lib/python3.10/dist-packages (from importlib-metadata<7.0,>=6.0->opentelemetry-api>=1.2.0->chromadb) (3.17.0)\n",
            "Requirement already satisfied: mypy-extensions>=0.3.0 in /usr/local/lib/python3.10/dist-packages (from typing-inspect<1,>=0.4.0->dataclasses-json<0.7,>=0.5.7->langchain) (1.0.0)\n",
            "Requirement already satisfied: humanfriendly>=9.1 in /usr/local/lib/python3.10/dist-packages (from coloredlogs->onnxruntime>=1.14.1->chromadb) (10.0)\n",
            "Requirement already satisfied: MarkupSafe>=2.0 in /usr/local/lib/python3.10/dist-packages (from jinja2->torch>=1.6.0->sentence_transformers) (2.1.3)\n",
            "Requirement already satisfied: mpmath>=0.19 in /usr/local/lib/python3.10/dist-packages (from sympy->onnxruntime>=1.14.1->chromadb) (1.3.0)\n",
            "Requirement already satisfied: pyasn1<0.6.0,>=0.4.6 in /usr/local/lib/python3.10/dist-packages (from pyasn1-modules>=0.2.1->google-auth>=1.0.1->kubernetes>=28.1.0->chromadb) (0.5.0)\n"
          ]
        }
      ]
    },
    {
      "cell_type": "code",
      "execution_count": null,
      "id": "ad5e40be",
      "metadata": {
        "id": "ad5e40be"
      },
      "outputs": [],
      "source": [
        "from langchain.llms import HuggingFacePipeline"
      ]
    },
    {
      "cell_type": "code",
      "execution_count": null,
      "id": "d5b2d99a",
      "metadata": {
        "id": "d5b2d99a"
      },
      "outputs": [],
      "source": [
        "from transformers import AutoTokenizer, AutoModelForSeq2SeqLM, pipeline, AutoModelForCausalLM\n",
        "\n",
        "#model_id = \"google/flan-t5-large\"\n",
        "model_id = \"declare-lab/flan-alpaca-large\"\n",
        "\n",
        "tokenizer = AutoTokenizer.from_pretrained(model_id)\n",
        "\n",
        "model = AutoModelForSeq2SeqLM.from_pretrained(model_id)#.to(\"cuda\")"
      ]
    },
    {
      "cell_type": "code",
      "execution_count": null,
      "id": "bdb382e3",
      "metadata": {
        "id": "bdb382e3"
      },
      "outputs": [],
      "source": [
        "pipe = pipeline(\"text2text-generation\", model=model, tokenizer=tokenizer, device=\"cuda\")\n",
        "local_llm = HuggingFacePipeline(pipeline=pipe)"
      ]
    },
    {
      "cell_type": "code",
      "execution_count": null,
      "id": "965555f4",
      "metadata": {
        "id": "965555f4"
      },
      "outputs": [],
      "source": [
        "from langchain.text_splitter import CharacterTextSplitter\n",
        "from langchain.vectorstores import Chroma\n",
        "from langchain.docstore.document import Document\n",
        "from langchain.prompts import PromptTemplate\n",
        "from langchain.indexes.vectorstore import VectorstoreIndexCreator\n",
        "from langchain.embeddings import HuggingFaceEmbeddings"
      ]
    },
    {
      "cell_type": "code",
      "source": [
        "woz = \"\"\"\n",
        "Dorothy lived in the midst of the great Kansas prairies, with Uncle\n",
        "Henry, who was a farmer, and Aunt Em, who was the farmer’s wife. Their\n",
        "house was small, for the lumber to build it had to be carried by wagon\n",
        "many miles. There were four walls, a floor and a roof, which made one\n",
        "room; and this room contained a rusty looking cookstove, a cupboard for\n",
        "the dishes, a table, three or four chairs, and the beds. Uncle Henry\n",
        "and Aunt Em had a big bed in one corner, and Dorothy a little bed in\n",
        "another corner. There was no garret at all, and no cellar—except a\n",
        "small hole dug in the ground, called a cyclone cellar, where the family\n",
        "could go in case one of those great whirlwinds arose, mighty enough to\n",
        "crush any building in its path. It was reached by a trap door in the\n",
        "middle of the floor, from which a ladder led down into the small, dark\n",
        "hole.\n",
        "\n",
        "When Dorothy stood in the doorway and looked around, she could see\n",
        "nothing but the great gray prairie on every side. Not a tree nor a\n",
        "house broke the broad sweep of flat country that reached to the edge of\n",
        "the sky in all directions. The sun had baked the plowed land into a\n",
        "gray mass, with little cracks running through it. Even the grass was\n",
        "not green, for the sun had burned the tops of the long blades until\n",
        "they were the same gray color to be seen everywhere. Once the house had\n",
        "been painted, but the sun blistered the paint and the rains washed it\n",
        "away, and now the house was as dull and gray as everything else.\n",
        "\n",
        "When Aunt Em came there to live she was a young, pretty wife. The sun\n",
        "and wind had changed her, too. They had taken the sparkle from her eyes\n",
        "and left them a sober gray; they had taken the red from her cheeks and\n",
        "lips, and they were gray also. She was thin and gaunt, and never smiled\n",
        "now. When Dorothy, who was an orphan, first came to her, Aunt Em had\n",
        "been so startled by the child’s laughter that she would scream and\n",
        "press her hand upon her heart whenever Dorothy’s merry voice reached\n",
        "her ears; and she still looked at the little girl with wonder that she\n",
        "could find anything to laugh at.\n",
        "\n",
        "Uncle Henry never laughed. He worked hard from morning till night and\n",
        "did not know what joy was. He was gray also, from his long beard to his\n",
        "rough boots, and he looked stern and solemn, and rarely spoke.\n",
        "\n",
        "It was Toto that made Dorothy laugh, and saved her from growing as gray\n",
        "as her other surroundings. Toto was not gray; he was a little black\n",
        "dog, with long silky hair and small black eyes that twinkled merrily on\n",
        "either side of his funny, wee nose. Toto played all day long, and\n",
        "Dorothy played with him, and loved him dearly.\n",
        "\n",
        "Today, however, they were not playing. Uncle Henry sat upon the\n",
        "doorstep and looked anxiously at the sky, which was even grayer than\n",
        "usual. Dorothy stood in the door with Toto in her arms, and looked at\n",
        "the sky too. Aunt Em was washing the dishes.\n",
        "\n",
        "From the far north they heard a low wail of the wind, and Uncle Henry\n",
        "and Dorothy could see where the long grass bowed in waves before the\n",
        "coming storm. There now came a sharp whistling in the air from the\n",
        "south, and as they turned their eyes that way they saw ripples in the\n",
        "grass coming from that direction also.\n",
        "\n",
        "Suddenly Uncle Henry stood up.\n",
        "\n",
        "“There’s a cyclone coming, Em,” he called to his wife. “I’ll go look\n",
        "after the stock.” Then he ran toward the sheds where the cows and\n",
        "horses were kept.\n",
        "\n",
        "Aunt Em dropped her work and came to the door. One glance told her of\n",
        "the danger close at hand.\n",
        "\n",
        "“Quick, Dorothy!” she screamed. “Run for the cellar!”\n",
        "\n",
        "Toto jumped out of Dorothy’s arms and hid under the bed, and the girl\n",
        "started to get him. Aunt Em, badly frightened, threw open the trap door\n",
        "in the floor and climbed down the ladder into the small, dark hole.\n",
        "Dorothy caught Toto at last and started to follow her aunt. When she\n",
        "was halfway across the room there came a great shriek from the wind,\n",
        "and the house shook so hard that she lost her footing and sat down\n",
        "suddenly upon the floor.\n",
        "\n",
        "Then a strange thing happened.\n",
        "\n",
        "The house whirled around two or three times and rose slowly through the\n",
        "air. Dorothy felt as if she were going up in a balloon.\n",
        "\n",
        "The north and south winds met where the house stood, and made it the\n",
        "exact center of the cyclone. In the middle of a cyclone the air is\n",
        "generally still, but the great pressure of the wind on every side of\n",
        "the house raised it up higher and higher, until it was at the very top\n",
        "of the cyclone; and there it remained and was carried miles and miles\n",
        "away as easily as you could carry a feather.\n",
        "\n",
        "It was very dark, and the wind howled horribly around her, but Dorothy\n",
        "found she was riding quite easily. After the first few whirls around,\n",
        "and one other time when the house tipped badly, she felt as if she were\n",
        "being rocked gently, like a baby in a cradle.\n",
        "\n",
        "Toto did not like it. He ran about the room, now here, now there,\n",
        "barking loudly; but Dorothy sat quite still on the floor and waited to\n",
        "see what would happen.\n",
        "\n",
        "Once Toto got too near the open trap door, and fell in; and at first\n",
        "the little girl thought she had lost him. But soon she saw one of his\n",
        "ears sticking up through the hole, for the strong pressure of the air\n",
        "was keeping him up so that he could not fall. She crept to the hole,\n",
        "caught Toto by the ear, and dragged him into the room again, afterward\n",
        "closing the trap door so that no more accidents could happen.\n",
        "\n",
        "Hour after hour passed away, and slowly Dorothy got over her fright;\n",
        "but she felt quite lonely, and the wind shrieked so loudly all about\n",
        "her that she nearly became deaf. At first she had wondered if she would\n",
        "be dashed to pieces when the house fell again; but as the hours passed\n",
        "and nothing terrible happened, she stopped worrying and resolved to\n",
        "wait calmly and see what the future would bring. At last she crawled\n",
        "over the swaying floor to her bed, and lay down upon it; and Toto\n",
        "followed and lay down beside her.\n",
        "\n",
        "In spite of the swaying of the house and the wailing of the wind,\n",
        "Dorothy soon closed her eyes and fell fast asleep.\n",
        "\"\"\""
      ],
      "metadata": {
        "id": "PqW5bk6GnEpD"
      },
      "id": "PqW5bk6GnEpD",
      "execution_count": null,
      "outputs": []
    },
    {
      "cell_type": "code",
      "execution_count": null,
      "id": "b2a0b58c",
      "metadata": {
        "id": "b2a0b58c",
        "outputId": "75bc2da1-9411-4748-f3c2-31eb5998c6a2",
        "colab": {
          "base_uri": "https://localhost:8080/"
        }
      },
      "outputs": [
        {
          "output_type": "stream",
          "name": "stderr",
          "text": [
            "WARNING:langchain.text_splitter:Created a chunk of size 303, which is longer than the specified 250\n",
            "WARNING:langchain.text_splitter:Created a chunk of size 292, which is longer than the specified 250\n"
          ]
        }
      ],
      "source": [
        "text_splitter = CharacterTextSplitter(separator= \".\", chunk_size=250, chunk_overlap=0)\n",
        "all_splits = text_splitter.split_text(woz)\n",
        "\n",
        "embeddings = HuggingFaceEmbeddings()"
      ]
    },
    {
      "cell_type": "code",
      "execution_count": null,
      "id": "61b26f9d",
      "metadata": {
        "id": "61b26f9d",
        "outputId": "bb3423a6-b535-4b51-a976-4595e84dbc14",
        "colab": {
          "base_uri": "https://localhost:8080/"
        }
      },
      "outputs": [
        {
          "output_type": "stream",
          "name": "stdout",
          "text": [
            "there are 30 documents\n"
          ]
        }
      ],
      "source": [
        "docsearch = Chroma.from_texts(all_splits, embeddings, metadatas=[{\"source\": str(i)} for i in range(len(all_splits))]).as_retriever()\n",
        "\n",
        "print(f\"there are {len(all_splits)} documents\")"
      ]
    },
    {
      "cell_type": "code",
      "execution_count": null,
      "id": "b1404fc5",
      "metadata": {
        "id": "b1404fc5",
        "outputId": "7b8c6c86-0449-49df-d204-b49318a43a09",
        "colab": {
          "base_uri": "https://localhost:8080/"
        }
      },
      "outputs": [
        {
          "output_type": "stream",
          "name": "stdout",
          "text": [
            "page_content='It was reached by a trap door in the\\nmiddle of the floor, from which a ladder led down into the small, dark\\nhole.\\n\\nWhen Dorothy stood in the doorway and looked around, she could see\\nnothing but the great gray prairie on every side' metadata={'source': '4'}\n",
            "page_content='There was no garret at all, and no cellar—except a\\nsmall hole dug in the ground, called a cyclone cellar, where the family\\ncould go in case one of those great whirlwinds arose, mighty enough to\\ncrush any building in its path' metadata={'source': '3'}\n",
            "page_content='Dorothy lived in the midst of the great Kansas prairies, with Uncle\\nHenry, who was a farmer, and Aunt Em, who was the farmer’s wife. Their\\nhouse was small, for the lumber to build it had to be carried by wagon\\nmany miles' metadata={'source': '0'}\n",
            "page_content='There were four walls, a floor and a roof, which made one\\nroom; and this room contained a rusty looking cookstove, a cupboard for\\nthe dishes, a table, three or four chairs, and the beds' metadata={'source': '1'}\n"
          ]
        }
      ],
      "source": [
        "from langchain.chains.question_answering import load_qa_chain\n",
        "\n",
        "chain = load_qa_chain(local_llm, chain_type=\"stuff\")\n",
        "\n",
        "query = \"Where is the farmhouse?\"\n",
        "docs = docsearch.get_relevant_documents(query)\n",
        "\n",
        "for d in docs:\n",
        "  print(d)\n",
        "\n"
      ]
    },
    {
      "cell_type": "code",
      "source": [
        "refine_prompt_template = (\n",
        "    \"The original question is as follows: {question}\\n\"\n",
        "    \"We have provided an existing answer: {existing_answer}\\n\"\n",
        "    \"We have the opportunity to refine the existing answer\"\n",
        "    \"(only if needed) with some more context below.\\n\"\n",
        "    \"------------\\n\"\n",
        "    \"{context_str}\\n\"\n",
        "    \"------------\\n\"\n",
        "    \"Given the new context, refine the original answer to better \"\n",
        "    \"answer the question. \"\n",
        "    \"If the context isn't useful, return the original answer.\"\n",
        ")\n",
        "refine_prompt = PromptTemplate(\n",
        "    input_variables=[\"question\", \"existing_answer\", \"context_str\"],\n",
        "    template=refine_prompt_template,\n",
        ")\n",
        "\n",
        "\n",
        "initial_qa_template = (\n",
        "    \"Context information is below. \\n\"\n",
        "    \"---------------------\\n\"\n",
        "    \"{context_str}\"\n",
        "    \"\\n---------------------\\n\"\n",
        "    \"Given the context information and not prior knowledge, \"\n",
        "    \"answer the question: {question}\\n\"\n",
        ")\n",
        "initial_qa_prompt = PromptTemplate(\n",
        "    input_variables=[\"context_str\", \"question\"], template=initial_qa_template\n",
        ")\n",
        "chain = load_qa_chain(local_llm, chain_type=\"refine\", return_refine_steps=True,\n",
        "                     question_prompt=initial_qa_prompt, refine_prompt=refine_prompt)\n",
        "\n"
      ],
      "metadata": {
        "id": "2imwL1YUO5XT"
      },
      "id": "2imwL1YUO5XT",
      "execution_count": null,
      "outputs": []
    },
    {
      "cell_type": "code",
      "execution_count": null,
      "id": "1b28d220",
      "metadata": {
        "id": "1b28d220",
        "colab": {
          "base_uri": "https://localhost:8080/"
        },
        "outputId": "7449f77e-727f-4127-8f8f-d7a823a93085"
      },
      "outputs": [
        {
          "output_type": "stream",
          "name": "stdout",
          "text": [
            "page_content='Then a strange thing happened.\\n\\nThe house whirled around two or three times and rose slowly through the\\nair. Dorothy felt as if she were going up in a balloon' metadata={'source': '19'}\n",
            "page_content='After the first few whirls around,\\nand one other time when the house tipped badly, she felt as if she were\\nbeing rocked gently, like a baby in a cradle.\\n\\nToto did not like it' metadata={'source': '23'}\n",
            "page_content='The north and south winds met where the house stood, and made it the\\nexact center of the cyclone' metadata={'source': '20'}\n",
            "page_content='There were four walls, a floor and a roof, which made one\\nroom; and this room contained a rusty looking cookstove, a cupboard for\\nthe dishes, a table, three or four chairs, and the beds' metadata={'source': '1'}\n"
          ]
        },
        {
          "output_type": "stream",
          "name": "stderr",
          "text": [
            "/usr/local/lib/python3.10/dist-packages/transformers/pipelines/base.py:1101: UserWarning: You seem to be using the pipelines sequentially on GPU. In order to maximize efficiency please use a dataset\n",
            "  warnings.warn(\n",
            "/usr/local/lib/python3.10/dist-packages/transformers/generation/utils.py:1273: UserWarning: Using the model-agnostic default `max_length` (=20) to control the generation length. We recommend setting `max_new_tokens` to control the maximum length of the generation.\n",
            "  warnings.warn(\n",
            "/usr/local/lib/python3.10/dist-packages/transformers/pipelines/base.py:1101: UserWarning: You seem to be using the pipelines sequentially on GPU. In order to maximize efficiency please use a dataset\n",
            "  warnings.warn(\n",
            "/usr/local/lib/python3.10/dist-packages/transformers/generation/utils.py:1273: UserWarning: Using the model-agnostic default `max_length` (=20) to control the generation length. We recommend setting `max_new_tokens` to control the maximum length of the generation.\n",
            "  warnings.warn(\n",
            "/usr/local/lib/python3.10/dist-packages/transformers/pipelines/base.py:1101: UserWarning: You seem to be using the pipelines sequentially on GPU. In order to maximize efficiency please use a dataset\n",
            "  warnings.warn(\n",
            "/usr/local/lib/python3.10/dist-packages/transformers/generation/utils.py:1273: UserWarning: Using the model-agnostic default `max_length` (=20) to control the generation length. We recommend setting `max_new_tokens` to control the maximum length of the generation.\n",
            "  warnings.warn(\n",
            "/usr/local/lib/python3.10/dist-packages/transformers/pipelines/base.py:1101: UserWarning: You seem to be using the pipelines sequentially on GPU. In order to maximize efficiency please use a dataset\n",
            "  warnings.warn(\n",
            "/usr/local/lib/python3.10/dist-packages/transformers/generation/utils.py:1273: UserWarning: Using the model-agnostic default `max_length` (=20) to control the generation length. We recommend setting `max_new_tokens` to control the maximum length of the generation.\n",
            "  warnings.warn(\n"
          ]
        },
        {
          "output_type": "execute_result",
          "data": {
            "text/plain": [
              "{'intermediate_steps': ['The house whirled around two or three times.',\n",
              "  'The house whirled around two or three times.',\n",
              "  'The house whirled around two or three times.',\n",
              "  'The house spun around two or three times.'],\n",
              " 'output_text': 'The house spun around two or three times.'}"
            ]
          },
          "metadata": {},
          "execution_count": 18
        }
      ],
      "source": [
        "query = \"How many times did the house spin?\"\n",
        "docs = docsearch.get_relevant_documents(query)\n",
        "\n",
        "for d in docs:\n",
        "  print(d)\n",
        "\n",
        "chain({\"input_documents\": docs, \"question\": query}, return_only_outputs=True)\n"
      ]
    },
    {
      "cell_type": "code",
      "source": [
        "query = \"Where was Dorothy's house?\"\n",
        "docs = docsearch.get_relevant_documents(query)\n",
        "\n",
        "for d in docs:\n",
        "  print(d)\n",
        "\n",
        "chain({\"input_documents\": docs, \"question\": query}, return_only_outputs=True)\n"
      ],
      "metadata": {
        "colab": {
          "base_uri": "https://localhost:8080/"
        },
        "id": "2PmHgNsOShwl",
        "outputId": "2cc79858-b088-45c7-8cb8-4f0b23a45b18"
      },
      "id": "2PmHgNsOShwl",
      "execution_count": null,
      "outputs": [
        {
          "output_type": "stream",
          "name": "stdout",
          "text": [
            "page_content='Dorothy lived in the midst of the great Kansas prairies, with Uncle\\nHenry, who was a farmer, and Aunt Em, who was the farmer’s wife. Their\\nhouse was small, for the lumber to build it had to be carried by wagon\\nmany miles' metadata={'source': '0'}\n",
            "page_content='Then a strange thing happened.\\n\\nThe house whirled around two or three times and rose slowly through the\\nair. Dorothy felt as if she were going up in a balloon' metadata={'source': '19'}\n",
            "page_content='“I’ll go look\\nafter the stock.” Then he ran toward the sheds where the cows and\\nhorses were kept.\\n\\nAunt Em dropped her work and came to the door. One glance told her of\\nthe danger close at hand.\\n\\n“Quick, Dorothy!” she screamed' metadata={'source': '16'}\n",
            "page_content='Uncle Henry\\nand Aunt Em had a big bed in one corner, and Dorothy a little bed in\\nanother corner' metadata={'source': '2'}\n"
          ]
        },
        {
          "output_type": "stream",
          "name": "stderr",
          "text": [
            "/usr/local/lib/python3.10/dist-packages/transformers/pipelines/base.py:1101: UserWarning: You seem to be using the pipelines sequentially on GPU. In order to maximize efficiency please use a dataset\n",
            "  warnings.warn(\n",
            "/usr/local/lib/python3.10/dist-packages/transformers/generation/utils.py:1273: UserWarning: Using the model-agnostic default `max_length` (=20) to control the generation length. We recommend setting `max_new_tokens` to control the maximum length of the generation.\n",
            "  warnings.warn(\n",
            "/usr/local/lib/python3.10/dist-packages/transformers/pipelines/base.py:1101: UserWarning: You seem to be using the pipelines sequentially on GPU. In order to maximize efficiency please use a dataset\n",
            "  warnings.warn(\n",
            "/usr/local/lib/python3.10/dist-packages/transformers/generation/utils.py:1273: UserWarning: Using the model-agnostic default `max_length` (=20) to control the generation length. We recommend setting `max_new_tokens` to control the maximum length of the generation.\n",
            "  warnings.warn(\n",
            "/usr/local/lib/python3.10/dist-packages/transformers/pipelines/base.py:1101: UserWarning: You seem to be using the pipelines sequentially on GPU. In order to maximize efficiency please use a dataset\n",
            "  warnings.warn(\n",
            "/usr/local/lib/python3.10/dist-packages/transformers/generation/utils.py:1273: UserWarning: Using the model-agnostic default `max_length` (=20) to control the generation length. We recommend setting `max_new_tokens` to control the maximum length of the generation.\n",
            "  warnings.warn(\n",
            "/usr/local/lib/python3.10/dist-packages/transformers/pipelines/base.py:1101: UserWarning: You seem to be using the pipelines sequentially on GPU. In order to maximize efficiency please use a dataset\n",
            "  warnings.warn(\n",
            "/usr/local/lib/python3.10/dist-packages/transformers/generation/utils.py:1273: UserWarning: Using the model-agnostic default `max_length` (=20) to control the generation length. We recommend setting `max_new_tokens` to control the maximum length of the generation.\n",
            "  warnings.warn(\n"
          ]
        },
        {
          "output_type": "execute_result",
          "data": {
            "text/plain": [
              "{'intermediate_steps': [\"Dorothy's house was in the midst of the great Kansas prairies.\",\n",
              "  \"Dorothy's house was in the midst of the great Kansas prairies.\",\n",
              "  \"Dorothy's house was in the midst of the great Kansas prairies.\",\n",
              "  \"Dorothy's house was in the midst of the great Kansas prairies.\"],\n",
              " 'output_text': \"Dorothy's house was in the midst of the great Kansas prairies.\"}"
            ]
          },
          "metadata": {},
          "execution_count": 20
        }
      ]
    },
    {
      "cell_type": "code",
      "source": [
        "query = \"List the people who lived in the house\"\n",
        "docs = docsearch.get_relevant_documents(query)\n",
        "\n",
        "for d in docs:\n",
        "  print(d)\n",
        "\n",
        "chain({\"input_documents\": docs, \"question\": query}, return_only_outputs=True)\n",
        "\n"
      ],
      "metadata": {
        "colab": {
          "base_uri": "https://localhost:8080/"
        },
        "id": "ccxNAOR9TAuW",
        "outputId": "7a59eaeb-5b1e-44d2-eae2-4686f260ec1a"
      },
      "id": "ccxNAOR9TAuW",
      "execution_count": null,
      "outputs": [
        {
          "output_type": "stream",
          "name": "stdout",
          "text": [
            "page_content='Uncle Henry\\nand Aunt Em had a big bed in one corner, and Dorothy a little bed in\\nanother corner' metadata={'source': '2'}\n",
            "page_content='There were four walls, a floor and a roof, which made one\\nroom; and this room contained a rusty looking cookstove, a cupboard for\\nthe dishes, a table, three or four chairs, and the beds' metadata={'source': '1'}\n",
            "page_content='Dorothy lived in the midst of the great Kansas prairies, with Uncle\\nHenry, who was a farmer, and Aunt Em, who was the farmer’s wife. Their\\nhouse was small, for the lumber to build it had to be carried by wagon\\nmany miles' metadata={'source': '0'}\n",
            "page_content='Once the house had\\nbeen painted, but the sun blistered the paint and the rains washed it\\naway, and now the house was as dull and gray as everything else.\\n\\nWhen Aunt Em came there to live she was a young, pretty wife' metadata={'source': '7'}\n"
          ]
        },
        {
          "output_type": "stream",
          "name": "stderr",
          "text": [
            "/usr/local/lib/python3.10/dist-packages/transformers/pipelines/base.py:1101: UserWarning: You seem to be using the pipelines sequentially on GPU. In order to maximize efficiency please use a dataset\n",
            "  warnings.warn(\n",
            "/usr/local/lib/python3.10/dist-packages/transformers/generation/utils.py:1273: UserWarning: Using the model-agnostic default `max_length` (=20) to control the generation length. We recommend setting `max_new_tokens` to control the maximum length of the generation.\n",
            "  warnings.warn(\n",
            "/usr/local/lib/python3.10/dist-packages/transformers/pipelines/base.py:1101: UserWarning: You seem to be using the pipelines sequentially on GPU. In order to maximize efficiency please use a dataset\n",
            "  warnings.warn(\n",
            "/usr/local/lib/python3.10/dist-packages/transformers/generation/utils.py:1273: UserWarning: Using the model-agnostic default `max_length` (=20) to control the generation length. We recommend setting `max_new_tokens` to control the maximum length of the generation.\n",
            "  warnings.warn(\n",
            "/usr/local/lib/python3.10/dist-packages/transformers/pipelines/base.py:1101: UserWarning: You seem to be using the pipelines sequentially on GPU. In order to maximize efficiency please use a dataset\n",
            "  warnings.warn(\n",
            "/usr/local/lib/python3.10/dist-packages/transformers/generation/utils.py:1273: UserWarning: Using the model-agnostic default `max_length` (=20) to control the generation length. We recommend setting `max_new_tokens` to control the maximum length of the generation.\n",
            "  warnings.warn(\n",
            "/usr/local/lib/python3.10/dist-packages/transformers/pipelines/base.py:1101: UserWarning: You seem to be using the pipelines sequentially on GPU. In order to maximize efficiency please use a dataset\n",
            "  warnings.warn(\n",
            "/usr/local/lib/python3.10/dist-packages/transformers/generation/utils.py:1273: UserWarning: Using the model-agnostic default `max_length` (=20) to control the generation length. We recommend setting `max_new_tokens` to control the maximum length of the generation.\n",
            "  warnings.warn(\n"
          ]
        },
        {
          "output_type": "execute_result",
          "data": {
            "text/plain": [
              "{'intermediate_steps': ['Uncle Henry, Aunt Em, Dorothy',\n",
              "  'The people who lived in the house were Uncle Henry, Aunt Em, Dorothy.',\n",
              "  'The people who lived in the house were Uncle Henry, Aunt Em, and Dorothy.',\n",
              "  'The people who lived in the house were Uncle Henry, Aunt Em, and Dorothy.'],\n",
              " 'output_text': 'The people who lived in the house were Uncle Henry, Aunt Em, and Dorothy.'}"
            ]
          },
          "metadata": {},
          "execution_count": 27
        }
      ]
    },
    {
      "cell_type": "code",
      "source": [
        "query = \"How far was the house carried?\"\n",
        "docs = docsearch.get_relevant_documents(query)\n",
        "\n",
        "for d in docs:\n",
        "  print(d)\n",
        "\n",
        "chain({\"input_documents\": docs, \"question\": query}, return_only_outputs=True)\n"
      ],
      "metadata": {
        "colab": {
          "base_uri": "https://localhost:8080/"
        },
        "id": "-ebMVdQ4aTIy",
        "outputId": "4ee7f8a5-f85f-4cee-a2d6-e3019a3bad94"
      },
      "id": "-ebMVdQ4aTIy",
      "execution_count": null,
      "outputs": [
        {
          "output_type": "stream",
          "name": "stdout",
          "text": [
            "page_content='In the middle of a cyclone the air is\\ngenerally still, but the great pressure of the wind on every side of\\nthe house raised it up higher and higher, until it was at the very top\\nof the cyclone; and there it remained and was carried miles and miles\\naway as easily as you could carry a feather' metadata={'source': '21'}\n",
            "page_content='Dorothy lived in the midst of the great Kansas prairies, with Uncle\\nHenry, who was a farmer, and Aunt Em, who was the farmer’s wife. Their\\nhouse was small, for the lumber to build it had to be carried by wagon\\nmany miles' metadata={'source': '0'}\n",
            "page_content='Then a strange thing happened.\\n\\nThe house whirled around two or three times and rose slowly through the\\nair. Dorothy felt as if she were going up in a balloon' metadata={'source': '19'}\n",
            "page_content='The north and south winds met where the house stood, and made it the\\nexact center of the cyclone' metadata={'source': '20'}\n"
          ]
        },
        {
          "output_type": "stream",
          "name": "stderr",
          "text": [
            "/usr/local/lib/python3.10/dist-packages/transformers/pipelines/base.py:1101: UserWarning: You seem to be using the pipelines sequentially on GPU. In order to maximize efficiency please use a dataset\n",
            "  warnings.warn(\n",
            "/usr/local/lib/python3.10/dist-packages/transformers/generation/utils.py:1273: UserWarning: Using the model-agnostic default `max_length` (=20) to control the generation length. We recommend setting `max_new_tokens` to control the maximum length of the generation.\n",
            "  warnings.warn(\n",
            "/usr/local/lib/python3.10/dist-packages/transformers/pipelines/base.py:1101: UserWarning: You seem to be using the pipelines sequentially on GPU. In order to maximize efficiency please use a dataset\n",
            "  warnings.warn(\n",
            "/usr/local/lib/python3.10/dist-packages/transformers/generation/utils.py:1273: UserWarning: Using the model-agnostic default `max_length` (=20) to control the generation length. We recommend setting `max_new_tokens` to control the maximum length of the generation.\n",
            "  warnings.warn(\n",
            "/usr/local/lib/python3.10/dist-packages/transformers/pipelines/base.py:1101: UserWarning: You seem to be using the pipelines sequentially on GPU. In order to maximize efficiency please use a dataset\n",
            "  warnings.warn(\n",
            "/usr/local/lib/python3.10/dist-packages/transformers/generation/utils.py:1273: UserWarning: Using the model-agnostic default `max_length` (=20) to control the generation length. We recommend setting `max_new_tokens` to control the maximum length of the generation.\n",
            "  warnings.warn(\n",
            "/usr/local/lib/python3.10/dist-packages/transformers/pipelines/base.py:1101: UserWarning: You seem to be using the pipelines sequentially on GPU. In order to maximize efficiency please use a dataset\n",
            "  warnings.warn(\n",
            "/usr/local/lib/python3.10/dist-packages/transformers/generation/utils.py:1273: UserWarning: Using the model-agnostic default `max_length` (=20) to control the generation length. We recommend setting `max_new_tokens` to control the maximum length of the generation.\n",
            "  warnings.warn(\n"
          ]
        },
        {
          "output_type": "execute_result",
          "data": {
            "text/plain": [
              "{'intermediate_steps': ['The house was carried miles and miles away.',\n",
              "  \"The house was carried miles and miles away from Dorothy's house.\",\n",
              "  \"The house was carried miles and miles away from Dorothy's house.\",\n",
              "  \"The house was carried miles and miles away from Dorothy's house.\"],\n",
              " 'output_text': \"The house was carried miles and miles away from Dorothy's house.\"}"
            ]
          },
          "metadata": {},
          "execution_count": 31
        }
      ]
    }
  ],
  "metadata": {
    "kernelspec": {
      "display_name": "Python 3",
      "name": "python3"
    },
    "language_info": {
      "codemirror_mode": {
        "name": "ipython",
        "version": 3
      },
      "file_extension": ".py",
      "mimetype": "text/x-python",
      "name": "python",
      "nbconvert_exporter": "python",
      "pygments_lexer": "ipython3",
      "version": "3.10.9"
    },
    "colab": {
      "provenance": [],
      "machine_shape": "hm",
      "gpuType": "A100",
      "include_colab_link": true
    },
    "accelerator": "GPU"
  },
  "nbformat": 4,
  "nbformat_minor": 5
}